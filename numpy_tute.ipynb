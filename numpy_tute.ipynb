{
 "cells": [
  {
   "cell_type": "code",
   "execution_count": 25,
   "id": "f39e4b9f-706d-47dd-9b6a-aec8b4826777",
   "metadata": {},
   "outputs": [],
   "source": [
    "'''\n",
    "numpy is the short from of numerical python.\n",
    "in 2006 Travis Oliphant created NumPy package.\n",
    "NumPy is a package that defines a multi-dimensional objects and associates fast math functions that operate on NumPy.\n",
    "I talso has functions for working in domain of linear Algebra, Fourier Transformation and Matrices.\n",
    "In simple words it a fundamental package for Numerical analysis.  \n",
    "'''\n",
    "import numpy as np"
   ]
  },
  {
   "cell_type": "code",
   "execution_count": 26,
   "id": "a0a3c30a-6479-49f8-9dca-709a48373088",
   "metadata": {},
   "outputs": [
    {
     "name": "stdout",
     "output_type": "stream",
     "text": [
      "[  200  1350   268  6084 50018   408]\n"
     ]
    }
   ],
   "source": [
    "arr1= np.array([10,30,67,78,562,68])  # numpy arrays uses less memory space and reading of elements / data is faster.\n",
    "arr2=np.array([20,45,4,78,89,6])\n",
    "print(arr*arr2)"
   ]
  },
  {
   "cell_type": "code",
   "execution_count": 27,
   "id": "2ea32588-4146-488a-b837-d1d6576a749f",
   "metadata": {},
   "outputs": [
    {
     "name": "stdout",
     "output_type": "stream",
     "text": [
      "[34, '67', 56, 90.7, 'char'] [23 56 87 34]\n"
     ]
    }
   ],
   "source": [
    "'''\n",
    "ARRAY v/s LIST\n",
    "- A list cannot directly handle Mathematical Operations while Array can.\n",
    "- An Array consumes less memory space than list.\n",
    "- Using of array is faster than list.\n",
    "- A List can store different dataTypes, while array cannot do that.\n",
    "- A list can easily modified bcoz elemsnts are stored individually.It is easy to Add and Delete elements.\n",
    "- In list One can have nested data with different size, while you cannot do the same in array.\n",
    "'''\n",
    "numpyArray = np.array([23,56,87,34])\n",
    "list_python = [34,'67',56,90.7,'char']\n",
    "print(list_python, numpyArray)\n"
   ]
  },
  {
   "cell_type": "code",
   "execution_count": 28,
   "id": "555ba27b-f1dc-4fb6-8b08-dc4b1c4389b1",
   "metadata": {},
   "outputs": [
    {
     "data": {
      "text/plain": [
       "array([[ 20,  30,   4,  67],\n",
       "       [201,  56,  74,  78]])"
      ]
     },
     "execution_count": 28,
     "metadata": {},
     "output_type": "execute_result"
    }
   ],
   "source": [
    "twoD = np.array([[20,30,4,67],[201,56,74,78]])\n",
    "twoD"
   ]
  },
  {
   "cell_type": "code",
   "execution_count": 38,
   "id": "b8bd54d5-ed4e-4e6b-a294-778abb6fc847",
   "metadata": {},
   "outputs": [
    {
     "data": {
      "text/plain": [
       "'\\n[[23, 45,  6],\\n[73,  5,  6],\\n[ 1,  2,  3],\\n[ 4,  5,  6]]\\n'"
      ]
     },
     "execution_count": 38,
     "metadata": {},
     "output_type": "execute_result"
    }
   ],
   "source": [
    "# method for concatenate\n",
    "a=np.array([[23,45,6],[73,5,6]])\n",
    "b=np.array([[1,2,3],[4,5,6]])\n",
    "np.concatenate([a,b])\n",
    "\n",
    "# enclose the arrays in the parenthasis as shown, if not you will get an error.\n",
    "'''\n",
    "[[23, 45,  6],\n",
    "[73,  5,  6],\n",
    "[ 1,  2,  3],\n",
    "[ 4,  5,  6]]\n",
    "'''"
   ]
  },
  {
   "cell_type": "code",
   "execution_count": 39,
   "id": "de65f7a7-fd6e-4ef7-9b71-1111aaae7555",
   "metadata": {},
   "outputs": [
    {
     "data": {
      "text/plain": [
       "'\\n[[23, 45,  6,  1,  2,  3],\\n[73,  5,  6,  4,  5,  6]]\\n'"
      ]
     },
     "execution_count": 39,
     "metadata": {},
     "output_type": "execute_result"
    }
   ],
   "source": [
    "np.concatenate([a,b], axis=1) # axis attribute chooses the alignment of array structure\n",
    "'''\n",
    "[[23, 45,  6,  1,  2,  3],\n",
    "[73,  5,  6,  4,  5,  6]]\n",
    "'''"
   ]
  },
  {
   "cell_type": "code",
   "execution_count": 40,
   "id": "72c61d9d-b078-4885-b66b-a7704a584ac9",
   "metadata": {},
   "outputs": [
    {
     "data": {
      "text/plain": [
       "array([[23, 45,  6,  1,  2,  3],\n",
       "       [73,  5,  6,  4,  5,  6]])"
      ]
     },
     "execution_count": 40,
     "metadata": {},
     "output_type": "execute_result"
    }
   ],
   "source": [
    "np.hstack([a,b])  # hstcak defines Horizontal stack\n"
   ]
  },
  {
   "cell_type": "code",
   "execution_count": 41,
   "id": "ba31ccda-d34c-45dd-95a1-a8f2eb378133",
   "metadata": {},
   "outputs": [
    {
     "data": {
      "text/plain": [
       "array([[23, 45,  6],\n",
       "       [73,  5,  6],\n",
       "       [ 1,  2,  3],\n",
       "       [ 4,  5,  6]])"
      ]
     },
     "execution_count": 41,
     "metadata": {},
     "output_type": "execute_result"
    }
   ],
   "source": [
    "np.vstack([a,b])  # vstack defines vertical stack"
   ]
  },
  {
   "cell_type": "code",
   "execution_count": 47,
   "id": "a77d0014-0f49-4aff-9fa0-480ecc4df90a",
   "metadata": {},
   "outputs": [
    {
     "data": {
      "text/plain": [
       "[array([1, 2, 3]), array([4, 5, 6]), array([7, 8, 9])]"
      ]
     },
     "execution_count": 47,
     "metadata": {},
     "output_type": "execute_result"
    }
   ],
   "source": [
    "# splitting of ARRAYS\n",
    "t1= np.array([1,2,3,4,5,6,7,8,9])\n",
    "t2=np.array_split(t1,3)\n",
    "t2  # [array([1, 2, 3]), array([4, 5, 6]), array([7, 8, 9])]"
   ]
  },
  {
   "cell_type": "code",
   "execution_count": 55,
   "id": "949e0936-5ab0-4a51-a6cc-f5ab4811dfe9",
   "metadata": {},
   "outputs": [
    {
     "name": "stdout",
     "output_type": "stream",
     "text": [
      "[ 20  40  30  50  90 100]\n",
      "[ 20  40 120  30  50]\n",
      "[20 40 30]\n"
     ]
    }
   ],
   "source": [
    "'''\n",
    "Updating Inserting Deleting of elements in ARRAYS\n",
    "np.append(h,g) \n",
    "np.insert(a,1,5) \n",
    "np.delete(a,[2])\n",
    "'''\n",
    "a= np.array([[20,40,30,50]])\n",
    "print(np.append(a,[90,100])) # [ 20  40  30  50  90 100]\n",
    "print(np.insert(a,2,120))    # [20  40 120  30  50]\n",
    "print(np.delete(a,3))        #[20 40 30]"
   ]
  },
  {
   "cell_type": "code",
   "execution_count": 65,
   "id": "a394c9a2-a780-4ed1-a5de-37d280e5aac4",
   "metadata": {},
   "outputs": [
    {
     "name": "stdout",
     "output_type": "stream",
     "text": [
      "[   3    9   56   76   87  436  880 6344]\n",
      "[5]\n",
      "(array([5], dtype=int64),)\n",
      "7\n",
      "[ 436 6344  880]\n"
     ]
    }
   ],
   "source": [
    " '''\n",
    " Sorting, Searching and Filtering of Arrays\n",
    " \n",
    " '''\n",
    "s=np.array([9,56,3,436,87,6344,76,880])\n",
    "print(np.sort(s)) #([   3,    9,   56,   76,   87,  436,  880, 6344])\n",
    "print(np.where(s==6344)[0]) #[5]\n",
    "print(np.where(s==6344)) #(array([5], dtype=int64),)\n",
    "print(np.searchsorted(s,880))  # takes 2 arguments and returns the index of the given argument in the array\n",
    "fa= s>100\n",
    "new=s[fa]  # filter the values greaterthan 100\n",
    "print(new) #[ 436 6344  880]\n"
   ]
  },
  {
   "cell_type": "code",
   "execution_count": 79,
   "id": "d4f9bedc-aac8-40ce-a970-a379170dc3d6",
   "metadata": {},
   "outputs": [
    {
     "name": "stdout",
     "output_type": "stream",
     "text": [
      "7891\n",
      "986.375\n",
      "6344\n",
      "3\n",
      "986.375\n",
      "81.5\n",
      "8\n",
      "[   9   65   68  504  591 6935 7011 7891]\n",
      "[          9         504        1512      659232    57353184 -1223620864\n",
      "  1494094848   543473664]\n"
     ]
    }
   ],
   "source": [
    "'''\n",
    "AGGREGATE FUNCTIONS\n",
    "'''\n",
    "print(np.sum(s))  #7891\n",
    "print(np.average(s)) #986.375\n",
    "print(np.max(s)) #6344\n",
    "print(np.min(s)) #3\n",
    "print(np.mean(s)) #986.375\n",
    "print(np.median(s)) #81.5\n",
    "print(np.size(s)) #8\n",
    "print(np.cumsum(s)) #[   9   65   68  504  591 6935 7011 7891] - cumulative sum\n",
    "print(np.cumprod(s)) #[        9         504        1512      659232    57353184 -1223620864 1494094848   543473664] - cumulative product"
   ]
  },
  {
   "cell_type": "code",
   "execution_count": 78,
   "id": "1ec36334-dc88-4188-a031-c6416cdeb850",
   "metadata": {},
   "outputs": [
    {
     "name": "stdout",
     "output_type": "stream",
     "text": [
      "[   2    5   50   56   99  766  774  795  819  875  953 1606 1662 1740]\n"
     ]
    }
   ],
   "source": [
    "x= np.array([[2,3,45,6,43,667,8],[21,24,56,78,653,56,78]])\n",
    "print(np.cumsum(x)) # [   2    5   50   56   99  766  774  795  819  875  953 1606 1662 1740] - cumulative sum of 2D array"
   ]
  },
  {
   "cell_type": "code",
   "execution_count": null,
   "id": "ab94d73e-f281-4486-b368-540c7f8d618f",
   "metadata": {},
   "outputs": [],
   "source": [
    "\n",
    "\n"
   ]
  }
 ],
 "metadata": {
  "kernelspec": {
   "display_name": "Python 3 (ipykernel)",
   "language": "python",
   "name": "python3"
  },
  "language_info": {
   "codemirror_mode": {
    "name": "ipython",
    "version": 3
   },
   "file_extension": ".py",
   "mimetype": "text/x-python",
   "name": "python",
   "nbconvert_exporter": "python",
   "pygments_lexer": "ipython3",
   "version": "3.11.1"
  }
 },
 "nbformat": 4,
 "nbformat_minor": 5
}
