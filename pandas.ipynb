{
 "cells": [
  {
   "cell_type": "code",
   "execution_count": 2,
   "id": "16875b7f-41ea-40d1-be10-d8e926a8592c",
   "metadata": {},
   "outputs": [],
   "source": [
    "import pandas as pd\n",
    "import numpy as np"
   ]
  },
  {
   "cell_type": "code",
   "execution_count": 4,
   "id": "a81fa9c9-e7a8-4570-90bb-027bb3f11545",
   "metadata": {},
   "outputs": [
    {
     "data": {
      "text/plain": [
       "0    1\n",
       "1    4\n",
       "2    4\n",
       "3    6\n",
       "4    5\n",
       "5    1\n",
       "6    0\n",
       "7    2\n",
       "8    3\n",
       "9    0\n",
       "dtype: int32"
      ]
     },
     "execution_count": 4,
     "metadata": {},
     "output_type": "execute_result"
    }
   ],
   "source": [
    "df = pd.Series(np.random.randint(0,7,size=10)) # generates a random series of data using numpy random\n",
    "df"
   ]
  },
  {
   "cell_type": "code",
   "execution_count": 20,
   "id": "54de5f54-4cdc-4e30-aa3e-04a3c10ce0cf",
   "metadata": {},
   "outputs": [
    {
     "data": {
      "text/plain": [
       "0    2\n",
       "1    4\n",
       "dtype: int32"
      ]
     },
     "execution_count": 20,
     "metadata": {},
     "output_type": "execute_result"
    }
   ],
   "source": [
    "s=pd.Series(np.random.randint(0,10,size=2))\n",
    "s"
   ]
  },
  {
   "cell_type": "code",
   "execution_count": 21,
   "id": "bb88e81b-b834-4c96-9199-c21323be6d89",
   "metadata": {},
   "outputs": [
    {
     "data": {
      "text/plain": [
       "2    1\n",
       "4    1\n",
       "Name: count, dtype: int64"
      ]
     },
     "execution_count": 21,
     "metadata": {},
     "output_type": "execute_result"
    }
   ],
   "source": [
    "s.value_counts() #counts the values"
   ]
  },
  {
   "cell_type": "code",
   "execution_count": 25,
   "id": "ce169aae-d8ce-4268-af90-90be14d3b42b",
   "metadata": {},
   "outputs": [
    {
     "data": {
      "text/html": [
       "<div>\n",
       "<style scoped>\n",
       "    .dataframe tbody tr th:only-of-type {\n",
       "        vertical-align: middle;\n",
       "    }\n",
       "\n",
       "    .dataframe tbody tr th {\n",
       "        vertical-align: top;\n",
       "    }\n",
       "\n",
       "    .dataframe thead th {\n",
       "        text-align: right;\n",
       "    }\n",
       "</style>\n",
       "<table border=\"1\" class=\"dataframe\">\n",
       "  <thead>\n",
       "    <tr style=\"text-align: right;\">\n",
       "      <th></th>\n",
       "      <th>0</th>\n",
       "      <th>1</th>\n",
       "      <th>2</th>\n",
       "      <th>3</th>\n",
       "    </tr>\n",
       "  </thead>\n",
       "  <tbody>\n",
       "    <tr>\n",
       "      <th>0</th>\n",
       "      <td>2.417983</td>\n",
       "      <td>0.550611</td>\n",
       "      <td>1.077285</td>\n",
       "      <td>2.300824</td>\n",
       "    </tr>\n",
       "    <tr>\n",
       "      <th>1</th>\n",
       "      <td>-1.396644</td>\n",
       "      <td>1.600134</td>\n",
       "      <td>1.420701</td>\n",
       "      <td>0.546982</td>\n",
       "    </tr>\n",
       "    <tr>\n",
       "      <th>2</th>\n",
       "      <td>-1.018287</td>\n",
       "      <td>0.540320</td>\n",
       "      <td>-1.221052</td>\n",
       "      <td>-0.826169</td>\n",
       "    </tr>\n",
       "    <tr>\n",
       "      <th>3</th>\n",
       "      <td>0.015091</td>\n",
       "      <td>0.897111</td>\n",
       "      <td>0.732279</td>\n",
       "      <td>-1.129558</td>\n",
       "    </tr>\n",
       "    <tr>\n",
       "      <th>4</th>\n",
       "      <td>0.610496</td>\n",
       "      <td>1.135165</td>\n",
       "      <td>-0.631710</td>\n",
       "      <td>-0.035381</td>\n",
       "    </tr>\n",
       "    <tr>\n",
       "      <th>5</th>\n",
       "      <td>-0.071775</td>\n",
       "      <td>0.469065</td>\n",
       "      <td>-0.360351</td>\n",
       "      <td>-2.930084</td>\n",
       "    </tr>\n",
       "    <tr>\n",
       "      <th>6</th>\n",
       "      <td>0.448935</td>\n",
       "      <td>-1.094263</td>\n",
       "      <td>-0.248212</td>\n",
       "      <td>-0.429177</td>\n",
       "    </tr>\n",
       "    <tr>\n",
       "      <th>7</th>\n",
       "      <td>1.247928</td>\n",
       "      <td>0.423320</td>\n",
       "      <td>1.232667</td>\n",
       "      <td>0.882726</td>\n",
       "    </tr>\n",
       "    <tr>\n",
       "      <th>8</th>\n",
       "      <td>-0.153854</td>\n",
       "      <td>0.156322</td>\n",
       "      <td>0.426426</td>\n",
       "      <td>-0.600552</td>\n",
       "    </tr>\n",
       "    <tr>\n",
       "      <th>9</th>\n",
       "      <td>1.931424</td>\n",
       "      <td>0.533768</td>\n",
       "      <td>1.654664</td>\n",
       "      <td>-2.005829</td>\n",
       "    </tr>\n",
       "  </tbody>\n",
       "</table>\n",
       "</div>"
      ],
      "text/plain": [
       "          0         1         2         3\n",
       "0  2.417983  0.550611  1.077285  2.300824\n",
       "1 -1.396644  1.600134  1.420701  0.546982\n",
       "2 -1.018287  0.540320 -1.221052 -0.826169\n",
       "3  0.015091  0.897111  0.732279 -1.129558\n",
       "4  0.610496  1.135165 -0.631710 -0.035381\n",
       "5 -0.071775  0.469065 -0.360351 -2.930084\n",
       "6  0.448935 -1.094263 -0.248212 -0.429177\n",
       "7  1.247928  0.423320  1.232667  0.882726\n",
       "8 -0.153854  0.156322  0.426426 -0.600552\n",
       "9  1.931424  0.533768  1.654664 -2.005829"
      ]
     },
     "execution_count": 25,
     "metadata": {},
     "output_type": "execute_result"
    }
   ],
   "source": [
    "tb= pd.DataFrame(np.random.randn(10,4)) \n",
    "tb"
   ]
  },
  {
   "cell_type": "code",
   "execution_count": 30,
   "id": "803ab6b7-aec3-4c2d-8420-3f404f33702e",
   "metadata": {},
   "outputs": [
    {
     "data": {
      "text/plain": [
       "array([[0.08411626, 0.70151391, 0.44533336, 0.93975566],\n",
       "       [0.70126633, 0.67481138, 0.79553158, 0.6876822 ],\n",
       "       [0.307276  , 0.64931848, 0.80409012, 0.22013202],\n",
       "       [0.6058765 , 0.79437412, 0.0087926 , 0.73167236],\n",
       "       [0.17528365, 0.82204038, 0.86893559, 0.36792394],\n",
       "       [0.58465937, 0.51788021, 0.63715929, 0.44228075],\n",
       "       [0.18589906, 0.63403772, 0.31111211, 0.1882643 ],\n",
       "       [0.50328095, 0.20697332, 0.61183014, 0.75362644],\n",
       "       [0.63829616, 0.65111531, 0.3345293 , 0.84831686],\n",
       "       [0.12094755, 0.03626975, 0.15067648, 0.79371393]])"
      ]
     },
     "execution_count": 30,
     "metadata": {},
     "output_type": "execute_result"
    }
   ],
   "source": [
    "np.random.rand(10,4) #generates a random 10X4 matrix or 2D array"
   ]
  },
  {
   "cell_type": "code",
   "execution_count": 40,
   "id": "508d1d22-991b-4855-88b1-59aaecc6805d",
   "metadata": {},
   "outputs": [
    {
     "data": {
      "text/plain": [
       "[          0         1         2         3\n",
       " 0  2.417983  0.550611  1.077285  2.300824\n",
       " 1 -1.396644  1.600134  1.420701  0.546982\n",
       " 2 -1.018287  0.540320 -1.221052 -0.826169,\n",
       "           0         1         2         3\n",
       " 3  0.015091  0.897111  0.732279 -1.129558\n",
       " 4  0.610496  1.135165 -0.631710 -0.035381\n",
       " 5 -0.071775  0.469065 -0.360351 -2.930084,\n",
       "           0         1         2         3\n",
       " 7  1.247928  0.423320  1.232667  0.882726\n",
       " 8 -0.153854  0.156322  0.426426 -0.600552\n",
       " 9  1.931424  0.533768  1.654664 -2.005829]"
      ]
     },
     "execution_count": 40,
     "metadata": {},
     "output_type": "execute_result"
    }
   ],
   "source": [
    "pieces = [tb[:3],tb[3:6],tb[7:]] # slices the dataframe into pieces\n",
    "pieces "
   ]
  },
  {
   "cell_type": "code",
   "execution_count": 41,
   "id": "f141c5d7-0d42-4d1f-9993-f1602fbabb73",
   "metadata": {},
   "outputs": [
    {
     "data": {
      "text/html": [
       "<div>\n",
       "<style scoped>\n",
       "    .dataframe tbody tr th:only-of-type {\n",
       "        vertical-align: middle;\n",
       "    }\n",
       "\n",
       "    .dataframe tbody tr th {\n",
       "        vertical-align: top;\n",
       "    }\n",
       "\n",
       "    .dataframe thead th {\n",
       "        text-align: right;\n",
       "    }\n",
       "</style>\n",
       "<table border=\"1\" class=\"dataframe\">\n",
       "  <thead>\n",
       "    <tr style=\"text-align: right;\">\n",
       "      <th></th>\n",
       "      <th>0</th>\n",
       "      <th>1</th>\n",
       "      <th>2</th>\n",
       "      <th>3</th>\n",
       "    </tr>\n",
       "  </thead>\n",
       "  <tbody>\n",
       "    <tr>\n",
       "      <th>0</th>\n",
       "      <td>2.417983</td>\n",
       "      <td>0.550611</td>\n",
       "      <td>1.077285</td>\n",
       "      <td>2.300824</td>\n",
       "    </tr>\n",
       "    <tr>\n",
       "      <th>1</th>\n",
       "      <td>-1.396644</td>\n",
       "      <td>1.600134</td>\n",
       "      <td>1.420701</td>\n",
       "      <td>0.546982</td>\n",
       "    </tr>\n",
       "    <tr>\n",
       "      <th>2</th>\n",
       "      <td>-1.018287</td>\n",
       "      <td>0.540320</td>\n",
       "      <td>-1.221052</td>\n",
       "      <td>-0.826169</td>\n",
       "    </tr>\n",
       "    <tr>\n",
       "      <th>3</th>\n",
       "      <td>0.015091</td>\n",
       "      <td>0.897111</td>\n",
       "      <td>0.732279</td>\n",
       "      <td>-1.129558</td>\n",
       "    </tr>\n",
       "    <tr>\n",
       "      <th>4</th>\n",
       "      <td>0.610496</td>\n",
       "      <td>1.135165</td>\n",
       "      <td>-0.631710</td>\n",
       "      <td>-0.035381</td>\n",
       "    </tr>\n",
       "    <tr>\n",
       "      <th>5</th>\n",
       "      <td>-0.071775</td>\n",
       "      <td>0.469065</td>\n",
       "      <td>-0.360351</td>\n",
       "      <td>-2.930084</td>\n",
       "    </tr>\n",
       "    <tr>\n",
       "      <th>7</th>\n",
       "      <td>1.247928</td>\n",
       "      <td>0.423320</td>\n",
       "      <td>1.232667</td>\n",
       "      <td>0.882726</td>\n",
       "    </tr>\n",
       "    <tr>\n",
       "      <th>8</th>\n",
       "      <td>-0.153854</td>\n",
       "      <td>0.156322</td>\n",
       "      <td>0.426426</td>\n",
       "      <td>-0.600552</td>\n",
       "    </tr>\n",
       "    <tr>\n",
       "      <th>9</th>\n",
       "      <td>1.931424</td>\n",
       "      <td>0.533768</td>\n",
       "      <td>1.654664</td>\n",
       "      <td>-2.005829</td>\n",
       "    </tr>\n",
       "  </tbody>\n",
       "</table>\n",
       "</div>"
      ],
      "text/plain": [
       "          0         1         2         3\n",
       "0  2.417983  0.550611  1.077285  2.300824\n",
       "1 -1.396644  1.600134  1.420701  0.546982\n",
       "2 -1.018287  0.540320 -1.221052 -0.826169\n",
       "3  0.015091  0.897111  0.732279 -1.129558\n",
       "4  0.610496  1.135165 -0.631710 -0.035381\n",
       "5 -0.071775  0.469065 -0.360351 -2.930084\n",
       "7  1.247928  0.423320  1.232667  0.882726\n",
       "8 -0.153854  0.156322  0.426426 -0.600552\n",
       "9  1.931424  0.533768  1.654664 -2.005829"
      ]
     },
     "execution_count": 41,
     "metadata": {},
     "output_type": "execute_result"
    }
   ],
   "source": [
    "pd.concat(pieces) # concats all the sliced pieces into single dataframe."
   ]
  },
  {
   "cell_type": "code",
   "execution_count": null,
   "id": "4a82b7bf-4cb2-4a82-a1fa-3af717689f16",
   "metadata": {},
   "outputs": [],
   "source": []
  }
 ],
 "metadata": {
  "kernelspec": {
   "display_name": "Python 3 (ipykernel)",
   "language": "python",
   "name": "python3"
  },
  "language_info": {
   "codemirror_mode": {
    "name": "ipython",
    "version": 3
   },
   "file_extension": ".py",
   "mimetype": "text/x-python",
   "name": "python",
   "nbconvert_exporter": "python",
   "pygments_lexer": "ipython3",
   "version": "3.11.1"
  }
 },
 "nbformat": 4,
 "nbformat_minor": 5
}
